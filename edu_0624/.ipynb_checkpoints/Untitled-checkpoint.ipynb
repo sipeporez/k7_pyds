{
 "cells": [
  {
   "cell_type": "markdown",
   "id": "e8852a7b-5736-4f2b-a952-b4a76476f30b",
   "metadata": {},
   "source": [
    "## 1. Jupyter 기초"
   ]
  },
  {
   "cell_type": "code",
   "execution_count": 1,
   "id": "806e249c-807b-48b6-92e8-e03d54b889bb",
   "metadata": {},
   "outputs": [
    {
     "name": "stdout",
     "output_type": "stream",
     "text": [
      "1024\n"
     ]
    }
   ],
   "source": [
    "a=2\n",
    "print(a**10)"
   ]
  },
  {
   "cell_type": "code",
   "execution_count": 2,
   "id": "7aa72cbd-237f-432e-9e42-160b86ff069d",
   "metadata": {},
   "outputs": [
    {
     "data": {
      "text/plain": [
       "\u001b[1;31mSignature:\u001b[0m \u001b[0mlen\u001b[0m\u001b[1;33m(\u001b[0m\u001b[0mobj\u001b[0m\u001b[1;33m,\u001b[0m \u001b[1;33m/\u001b[0m\u001b[1;33m)\u001b[0m\u001b[1;33m\u001b[0m\u001b[1;33m\u001b[0m\u001b[0m\n",
       "\u001b[1;31mDocstring:\u001b[0m Return the number of items in a container.\n",
       "\u001b[1;31mType:\u001b[0m      builtin_function_or_method"
      ]
     },
     "metadata": {},
     "output_type": "display_data"
    }
   ],
   "source": [
    "lst = [1,2,3]\n",
    "lst, type(lst), len(lst)\n",
    "len?\n"
   ]
  },
  {
   "cell_type": "code",
   "execution_count": 3,
   "id": "1f2db039-cbe5-4afa-819e-aa292e5f46ee",
   "metadata": {},
   "outputs": [
    {
     "data": {
      "text/plain": [
       "\u001b[1;31mSignature:\u001b[0m \u001b[0madd\u001b[0m\u001b[1;33m(\u001b[0m\u001b[0ma\u001b[0m\u001b[1;33m,\u001b[0m \u001b[0mb\u001b[0m\u001b[1;33m)\u001b[0m\u001b[1;33m\u001b[0m\u001b[1;33m\u001b[0m\u001b[0m\n",
       "\u001b[1;31mSource:\u001b[0m   \n",
       "\u001b[1;32mdef\u001b[0m \u001b[0madd\u001b[0m\u001b[1;33m(\u001b[0m\u001b[0ma\u001b[0m\u001b[1;33m,\u001b[0m\u001b[0mb\u001b[0m\u001b[1;33m)\u001b[0m\u001b[1;33m:\u001b[0m\u001b[1;33m\n",
       "\u001b[0m    \u001b[1;34m\"\"\"return a+b\"\"\"\u001b[0m\u001b[1;33m\n",
       "\u001b[0m    \u001b[1;32mreturn\u001b[0m \u001b[0ma\u001b[0m\u001b[1;33m+\u001b[0m\u001b[0mb\u001b[0m\u001b[1;33m\u001b[0m\u001b[1;33m\u001b[0m\u001b[0m\n",
       "\u001b[1;31mFile:\u001b[0m      c:\\users\\user\\appdata\\local\\temp\\ipykernel_4732\\531607376.py\n",
       "\u001b[1;31mType:\u001b[0m      function"
      ]
     },
     "metadata": {},
     "output_type": "display_data"
    }
   ],
   "source": [
    "def add(a,b):\n",
    "    \"\"\"return a+b\"\"\"\n",
    "    return a+b\n",
    "\n",
    "add(1,2)\n",
    "\n",
    "add??\n"
   ]
  },
  {
   "cell_type": "code",
   "execution_count": 19,
   "id": "6030ec0d-4c90-4891-870a-242f321cff25",
   "metadata": {},
   "outputs": [
    {
     "name": "stdout",
     "output_type": "stream",
     "text": [
      "1 1\n",
      "2 4\n",
      "3 9\n",
      "4 16\n",
      "5 25\n",
      "6 36\n",
      "7 49\n",
      "8 64\n",
      "9 81\n"
     ]
    }
   ],
   "source": [
    "def square(x):\n",
    "    \"\"\"return x*x\"\"\"\n",
    "    return x**2\n",
    "\n",
    "\n",
    "for i in range(1,10):\n",
    "    print(i, square(i))"
   ]
  },
  {
   "cell_type": "markdown",
   "id": "54cee168-0ce0-400b-ad2e-b5765e29e161",
   "metadata": {},
   "source": [
    "### 매직함수 - %timeit / %time\n",
    "+ timeit은 반복 실행하여 시간 측정\n",
    "+ time은 한번만 실행하여 시간 측정\n",
    "+ 한 라인에 대해서만 측정"
   ]
  },
  {
   "cell_type": "code",
   "execution_count": 5,
   "id": "7c7ba28d-dd60-481f-be42-97d46dcb4946",
   "metadata": {},
   "outputs": [
    {
     "name": "stdout",
     "output_type": "stream",
     "text": [
      "172 µs ± 2.31 µs per loop (mean ± std. dev. of 7 runs, 10,000 loops each)\n"
     ]
    }
   ],
   "source": [
    "%timeit l = [n**2 for n in range(1000)]"
   ]
  },
  {
   "cell_type": "code",
   "execution_count": 6,
   "id": "57a39077-6e7f-4f54-8359-b91df15e41f8",
   "metadata": {},
   "outputs": [
    {
     "name": "stdout",
     "output_type": "stream",
     "text": [
      "212 µs ± 4.31 µs per loop (mean ± std. dev. of 7 runs, 1,000 loops each)\n"
     ]
    }
   ],
   "source": [
    "%timeit l = [square(n) for n in range(1000)]"
   ]
  },
  {
   "cell_type": "code",
   "execution_count": 7,
   "id": "3908edc4-af19-47a2-bde2-7bae84fb7702",
   "metadata": {
    "collapsed": true,
    "jupyter": {
     "outputs_hidden": true
    }
   },
   "outputs": [
    {
     "data": {
      "text/plain": [
       "\u001b[1;31mDocstring:\u001b[0m\n",
       "Time execution of a Python statement or expression\n",
       "\n",
       "Usage, in line mode:\n",
       "  %timeit [-n<N> -r<R> [-t|-c] -q -p<P> -o] statement\n",
       "or in cell mode:\n",
       "  %%timeit [-n<N> -r<R> [-t|-c] -q -p<P> -o] setup_code\n",
       "  code\n",
       "  code...\n",
       "\n",
       "Time execution of a Python statement or expression using the timeit\n",
       "module.  This function can be used both as a line and cell magic:\n",
       "\n",
       "- In line mode you can time a single-line statement (though multiple\n",
       "  ones can be chained with using semicolons).\n",
       "\n",
       "- In cell mode, the statement in the first line is used as setup code\n",
       "  (executed but not timed) and the body of the cell is timed.  The cell\n",
       "  body has access to any variables created in the setup code.\n",
       "\n",
       "Options:\n",
       "-n<N>: execute the given statement <N> times in a loop. If <N> is not\n",
       "provided, <N> is determined so as to get sufficient accuracy.\n",
       "\n",
       "-r<R>: number of repeats <R>, each consisting of <N> loops, and take the\n",
       "average result.\n",
       "Default: 7\n",
       "\n",
       "-t: use time.time to measure the time, which is the default on Unix.\n",
       "This function measures wall time.\n",
       "\n",
       "-c: use time.clock to measure the time, which is the default on\n",
       "Windows and measures wall time. On Unix, resource.getrusage is used\n",
       "instead and returns the CPU user time.\n",
       "\n",
       "-p<P>: use a precision of <P> digits to display the timing result.\n",
       "Default: 3\n",
       "\n",
       "-q: Quiet, do not print result.\n",
       "\n",
       "-o: return a TimeitResult that can be stored in a variable to inspect\n",
       "    the result in more details.\n",
       "\n",
       ".. versionchanged:: 7.3\n",
       "    User variables are no longer expanded,\n",
       "    the magic line is always left unmodified.\n",
       "\n",
       "Examples\n",
       "--------\n",
       "::\n",
       "\n",
       "  In [1]: %timeit pass\n",
       "  8.26 ns ± 0.12 ns per loop (mean ± std. dev. of 7 runs, 100000000 loops each)\n",
       "\n",
       "  In [2]: u = None\n",
       "\n",
       "  In [3]: %timeit u is None\n",
       "  29.9 ns ± 0.643 ns per loop (mean ± std. dev. of 7 runs, 10000000 loops each)\n",
       "\n",
       "  In [4]: %timeit -r 4 u == None\n",
       "\n",
       "  In [5]: import time\n",
       "\n",
       "  In [6]: %timeit -n1 time.sleep(2)\n",
       "\n",
       "The times reported by %timeit will be slightly higher than those\n",
       "reported by the timeit.py script when variables are accessed. This is\n",
       "due to the fact that %timeit executes the statement in the namespace\n",
       "of the shell, compared with timeit.py, which uses a single setup\n",
       "statement to import function or create variables. Generally, the bias\n",
       "does not matter as long as results from timeit.py are not mixed with\n",
       "those from %timeit.\n",
       "\u001b[1;31mFile:\u001b[0m      c:\\users\\user\\appdata\\roaming\\python\\python39\\site-packages\\ipython\\core\\magics\\execution.py"
      ]
     },
     "metadata": {},
     "output_type": "display_data"
    }
   ],
   "source": [
    "%timeit?"
   ]
  },
  {
   "cell_type": "code",
   "execution_count": 8,
   "id": "5323591d-3d48-4872-b6f4-4e357d938517",
   "metadata": {},
   "outputs": [
    {
     "data": {
      "text/plain": [
       "[' C 드라이브의 볼륨에는 이름이 없습니다.',\n",
       " ' 볼륨 일련 번호: C850-203F',\n",
       " '',\n",
       " ' C:\\\\Users\\\\seongwoo\\\\pyds_works\\\\edu_0624 디렉터리',\n",
       " '',\n",
       " '2024-06-24  오전 10:58    <DIR>          .',\n",
       " '2024-06-24  오전 10:58    <DIR>          ..',\n",
       " '2024-06-24  오전 09:54    <DIR>          .ipynb_checkpoints',\n",
       " '2024-06-24  오전 10:48    <DIR>          test',\n",
       " '2024-06-24  오전 10:58            15,681 Untitled.ipynb',\n",
       " '               1개 파일              15,681 바이트',\n",
       " '               4개 디렉터리  860,192,542,720 바이트 남음']"
      ]
     },
     "execution_count": 8,
     "metadata": {},
     "output_type": "execute_result"
    }
   ],
   "source": [
    "a = !dir\n",
    "\n",
    "a"
   ]
  },
  {
   "cell_type": "code",
   "execution_count": 9,
   "id": "309d0b39-c4be-4ae3-8e21-0b3895ec63d8",
   "metadata": {},
   "outputs": [
    {
     "name": "stderr",
     "output_type": "stream",
     "text": [
      "하위 디렉터리 또는 파일 test이(가) 이미 있습니다.\n"
     ]
    }
   ],
   "source": [
    "mkdir test"
   ]
  },
  {
   "cell_type": "code",
   "execution_count": 21,
   "id": "27fb3aae-103e-43b1-aa62-54bef3f7a7c6",
   "metadata": {},
   "outputs": [
    {
     "ename": "ZeroDivisionError",
     "evalue": "division by zero",
     "output_type": "error",
     "traceback": [
      "\u001b[1;31m---------------------------------------------------------------------------\u001b[0m",
      "\u001b[1;31mZeroDivisionError\u001b[0m                         Traceback (most recent call last)",
      "Cell \u001b[1;32mIn[21], line 8\u001b[0m\n\u001b[0;32m      5\u001b[0m     b\u001b[38;5;241m=\u001b[39mx\u001b[38;5;241m-\u001b[39m\u001b[38;5;241m1\u001b[39m\n\u001b[0;32m      6\u001b[0m     \u001b[38;5;28;01mreturn\u001b[39;00m func1(a,b)\n\u001b[1;32m----> 8\u001b[0m \u001b[43mfunc2\u001b[49m\u001b[43m(\u001b[49m\u001b[38;5;241;43m1\u001b[39;49m\u001b[43m)\u001b[49m\n",
      "Cell \u001b[1;32mIn[21], line 6\u001b[0m, in \u001b[0;36mfunc2\u001b[1;34m(x)\u001b[0m\n\u001b[0;32m      4\u001b[0m a\u001b[38;5;241m=\u001b[39mx\n\u001b[0;32m      5\u001b[0m b\u001b[38;5;241m=\u001b[39mx\u001b[38;5;241m-\u001b[39m\u001b[38;5;241m1\u001b[39m\n\u001b[1;32m----> 6\u001b[0m \u001b[38;5;28;01mreturn\u001b[39;00m \u001b[43mfunc1\u001b[49m\u001b[43m(\u001b[49m\u001b[43ma\u001b[49m\u001b[43m,\u001b[49m\u001b[43mb\u001b[49m\u001b[43m)\u001b[49m\n",
      "Cell \u001b[1;32mIn[21], line 2\u001b[0m, in \u001b[0;36mfunc1\u001b[1;34m(a, b)\u001b[0m\n\u001b[0;32m      1\u001b[0m \u001b[38;5;28;01mdef\u001b[39;00m \u001b[38;5;21mfunc1\u001b[39m(a,b):\n\u001b[1;32m----> 2\u001b[0m     \u001b[38;5;28;01mreturn\u001b[39;00m \u001b[43ma\u001b[49m\u001b[38;5;241;43m/\u001b[39;49m\u001b[43mb\u001b[49m\n",
      "\u001b[1;31mZeroDivisionError\u001b[0m: division by zero"
     ]
    }
   ],
   "source": [
    "def func1(a,b):\n",
    "    return a/b\n",
    "def func2(x):\n",
    "    a=x\n",
    "    b=x-1\n",
    "    return func1(a,b)\n",
    "\n",
    "func2(1)"
   ]
  },
  {
   "cell_type": "markdown",
   "id": "d89ec191-bf04-4c95-90f4-758397010364",
   "metadata": {},
   "source": [
    "### 디버깅 - %xmode / %ipdb"
   ]
  },
  {
   "cell_type": "code",
   "execution_count": 40,
   "id": "ddb39064-cf35-473b-9abd-eefb6e0abfca",
   "metadata": {},
   "outputs": [
    {
     "name": "stdout",
     "output_type": "stream",
     "text": [
      "Exception reporting mode: Verbose\n"
     ]
    },
    {
     "ename": "ZeroDivisionError",
     "evalue": "division by zero",
     "output_type": "error",
     "traceback": [
      "\u001b[1;31m---------------------------------------------------------------------------\u001b[0m",
      "\u001b[1;31mZeroDivisionError\u001b[0m                         Traceback (most recent call last)",
      "Cell \u001b[1;32mIn[40], line 3\u001b[0m\n\u001b[0;32m      1\u001b[0m get_ipython()\u001b[38;5;241m.\u001b[39mrun_line_magic(\u001b[38;5;124m'\u001b[39m\u001b[38;5;124mxmode\u001b[39m\u001b[38;5;124m'\u001b[39m, \u001b[38;5;124m'\u001b[39m\u001b[38;5;124mVerbose\u001b[39m\u001b[38;5;124m'\u001b[39m)\n\u001b[1;32m----> 3\u001b[0m \u001b[43mfunc2\u001b[49m\u001b[43m(\u001b[49m\u001b[38;5;241;43m1\u001b[39;49m\u001b[43m)\u001b[49m\n",
      "Cell \u001b[1;32mIn[36], line 6\u001b[0m, in \u001b[0;36mfunc2\u001b[1;34m(x=1)\u001b[0m\n\u001b[0;32m      4\u001b[0m a\u001b[38;5;241m=\u001b[39mx\n\u001b[0;32m      5\u001b[0m b\u001b[38;5;241m=\u001b[39mx\u001b[38;5;241m-\u001b[39m\u001b[38;5;241m1\u001b[39m\n\u001b[1;32m----> 6\u001b[0m \u001b[38;5;28;01mreturn\u001b[39;00m \u001b[43mfunc1\u001b[49m\u001b[43m(\u001b[49m\u001b[43ma\u001b[49m\u001b[43m,\u001b[49m\u001b[43mb\u001b[49m\u001b[43m)\u001b[49m\n        a \u001b[1;34m= 1\u001b[0m\u001b[1;34m\n        \u001b[0mb \u001b[1;34m= 0\u001b[0m\n",
      "Cell \u001b[1;32mIn[36], line 2\u001b[0m, in \u001b[0;36mfunc1\u001b[1;34m(a=1, b=0)\u001b[0m\n\u001b[0;32m      1\u001b[0m \u001b[38;5;28;01mdef\u001b[39;00m \u001b[38;5;21mfunc1\u001b[39m(a,b):\n\u001b[1;32m----> 2\u001b[0m     \u001b[38;5;28;01mreturn\u001b[39;00m \u001b[43ma\u001b[49m\u001b[38;5;241;43m/\u001b[39;49m\u001b[43mb\u001b[49m\n        a \u001b[1;34m= 1\u001b[0m\u001b[1;34m\n        \u001b[0mb \u001b[1;34m= 0\u001b[0m\n",
      "\u001b[1;31mZeroDivisionError\u001b[0m: division by zero"
     ]
    }
   ],
   "source": [
    "%xmode Verbose\n",
    "\n",
    "func2(1)"
   ]
  },
  {
   "cell_type": "code",
   "execution_count": 38,
   "id": "34fd39ff-d2fd-4550-9f47-1b419bf5aedd",
   "metadata": {},
   "outputs": [
    {
     "name": "stdout",
     "output_type": "stream",
     "text": [
      "9.86 µs ± 218 ns per loop (mean ± std. dev. of 7 runs, 100,000 loops each)\n"
     ]
    }
   ],
   "source": [
    "%timeit sum(range(1000))"
   ]
  },
  {
   "cell_type": "code",
   "execution_count": null,
   "id": "7e2b985a-c4a2-42ab-9d88-6dfa90180de8",
   "metadata": {},
   "outputs": [],
   "source": []
  },
  {
   "cell_type": "code",
   "execution_count": null,
   "id": "f2cf7b7e-d14f-446f-957a-2c062e0aacb0",
   "metadata": {},
   "outputs": [],
   "source": [
    "%%timeit\n",
    "total = 0\n",
    "for i in range(1000):\n",
    "    for j in range(1000):\n",
    "        total += i * (-1) ** j"
   ]
  },
  {
   "cell_type": "code",
   "execution_count": 32,
   "id": "c104907a-327b-45ea-8324-5746aed72d6c",
   "metadata": {},
   "outputs": [
    {
     "name": "stdout",
     "output_type": "stream",
     "text": [
      "406 µs ± 4.6 µs per loop (mean ± std. dev. of 7 runs, 1,000 loops each)\n"
     ]
    }
   ],
   "source": [
    "import random\n",
    "L = [random.random() for i in range(100000)]\n",
    "%timeit L.sort()"
   ]
  },
  {
   "cell_type": "code",
   "execution_count": 34,
   "id": "61036ce2-30a3-42da-8dca-290b160213a4",
   "metadata": {},
   "outputs": [
    {
     "name": "stdout",
     "output_type": "stream",
     "text": [
      "정렬 안된 리스트:\n",
      "CPU times: total: 15.6 ms\n",
      "Wall time: 17.8 ms\n",
      "정렬된 리스트:\n",
      "CPU times: total: 0 ns\n",
      "Wall time: 0 ns\n"
     ]
    }
   ],
   "source": [
    "import random\n",
    "M = [random.random() for i in range(100000)]\n",
    "print(\"정렬 안된 리스트:\")\n",
    "%time M.sort()\n",
    "\n",
    "print(\"정렬된 리스트:\")\n",
    "%time M.sort()"
   ]
  },
  {
   "cell_type": "markdown",
   "id": "30d837cb-4bb9-48ce-8128-39bff6a06c0e",
   "metadata": {},
   "source": [
    "### 매직 명령어 %%\n",
    "+ 2개를 붙인 time -> 해당 셸 전체 시간 측정"
   ]
  },
  {
   "cell_type": "code",
   "execution_count": 35,
   "id": "119341b1-df61-4cc6-ad88-1782dacb76d1",
   "metadata": {},
   "outputs": [
    {
     "name": "stdout",
     "output_type": "stream",
     "text": [
      "CPU times: total: 266 ms\n",
      "Wall time: 259 ms\n"
     ]
    }
   ],
   "source": [
    "%%time\n",
    "total = 0\n",
    "for i in range(1000):\n",
    "    for j in range(1000):\n",
    "        total += i * (-1) ** j"
   ]
  },
  {
   "cell_type": "markdown",
   "id": "ff16c1fd-0b98-4256-8e6e-4a83b8832a16",
   "metadata": {},
   "source": [
    "## 2. Numpy\n",
    "+ 동일한 타입만 가지는 배열(리스트)"
   ]
  },
  {
   "cell_type": "code",
   "execution_count": 41,
   "id": "7d5db495-9b36-403e-9d65-6e65e381d5bd",
   "metadata": {},
   "outputs": [],
   "source": [
    "import numpy as np"
   ]
  },
  {
   "cell_type": "code",
   "execution_count": 68,
   "id": "e1bb0fc7-d009-4fb5-9d4c-c1bcdcc55ef8",
   "metadata": {},
   "outputs": [
    {
     "data": {
      "text/plain": [
       "array([[2, 3, 4],\n",
       "       [4, 5, 6],\n",
       "       [6, 7, 8]])"
      ]
     },
     "execution_count": 68,
     "metadata": {},
     "output_type": "execute_result"
    }
   ],
   "source": [
    "import array as ar\n",
    "L = list(range(10))\n",
    "A = ar.array('i',L)\n",
    "A\n",
    "\n",
    "np.array([1,4,2,5,3])\n",
    "np.array([range(i, i+3) for i in [2,4,6]])"
   ]
  },
  {
   "cell_type": "markdown",
   "id": "9307eaae-c7e7-42bc-909a-fa514cfcebac",
   "metadata": {},
   "source": [
    "#### 0으로 채운 길이 10의 정수배열 만들기"
   ]
  },
  {
   "cell_type": "code",
   "execution_count": 71,
   "id": "84c662e7-e718-4cd3-b830-beefabad7f40",
   "metadata": {},
   "outputs": [
    {
     "data": {
      "text/plain": [
       "array([0, 0, 0, 0, 0, 0, 0, 0, 0, 0])"
      ]
     },
     "execution_count": 71,
     "metadata": {},
     "output_type": "execute_result"
    }
   ],
   "source": [
    "np.zeros(10, dtype=int)"
   ]
  },
  {
   "cell_type": "markdown",
   "id": "b53087f0-e41e-4253-bb7d-d2762a123cbc",
   "metadata": {},
   "source": [
    "#### 1로 채운 3x5 부동 소수점 배열 만들기"
   ]
  },
  {
   "cell_type": "code",
   "execution_count": 74,
   "id": "c623d080-64f7-4a31-b476-77ae03d6ecfe",
   "metadata": {},
   "outputs": [
    {
     "data": {
      "text/plain": [
       "array([[1., 1., 1., 1., 1.],\n",
       "       [1., 1., 1., 1., 1.],\n",
       "       [1., 1., 1., 1., 1.]])"
      ]
     },
     "execution_count": 74,
     "metadata": {},
     "output_type": "execute_result"
    }
   ],
   "source": [
    "np.ones((3,5),dtype=float)"
   ]
  },
  {
   "cell_type": "markdown",
   "id": "2701e536-3d53-4823-8c94-3ad473b0ec9b",
   "metadata": {},
   "source": [
    "#### 3.14로 채운 3x5 배열 만들기"
   ]
  },
  {
   "cell_type": "code",
   "execution_count": 76,
   "id": "075f0afb-49c9-431f-9c43-2e3fa69c1d25",
   "metadata": {},
   "outputs": [
    {
     "data": {
      "text/plain": [
       "array([[3.14, 3.14, 3.14, 3.14, 3.14],\n",
       "       [3.14, 3.14, 3.14, 3.14, 3.14],\n",
       "       [3.14, 3.14, 3.14, 3.14, 3.14]])"
      ]
     },
     "execution_count": 76,
     "metadata": {},
     "output_type": "execute_result"
    }
   ],
   "source": [
    "np.full((3,5), 3.14)"
   ]
  },
  {
   "cell_type": "markdown",
   "id": "14e711c1-c2a2-48e6-8475-5b0955edf0c2",
   "metadata": {},
   "source": [
    "#### 선형 수열로 채운 배열 만들기 (0~20)"
   ]
  },
  {
   "cell_type": "code",
   "execution_count": 78,
   "id": "12e2e49a-ad68-44d5-8fc1-74358b46a2bf",
   "metadata": {},
   "outputs": [
    {
     "data": {
      "text/plain": [
       "array([ 0,  2,  4,  6,  8, 10, 12, 14, 16, 18])"
      ]
     },
     "execution_count": 78,
     "metadata": {},
     "output_type": "execute_result"
    }
   ],
   "source": [
    "np.arange(0, 20, 2)"
   ]
  },
  {
   "cell_type": "markdown",
   "id": "f0785cd5-882d-4d3d-91e2-566c7c42308f",
   "metadata": {},
   "source": [
    "#### 0과 1 사이에 일정한 간격을 가진 5개의 값"
   ]
  },
  {
   "cell_type": "code",
   "execution_count": 80,
   "id": "b75c1f0a-7c2d-40e2-af5e-60b5e2268f05",
   "metadata": {},
   "outputs": [
    {
     "data": {
      "text/plain": [
       "array([0.  , 0.25, 0.5 , 0.75, 1.  ])"
      ]
     },
     "execution_count": 80,
     "metadata": {},
     "output_type": "execute_result"
    }
   ],
   "source": [
    "np.linspace(0, 1, 5)"
   ]
  },
  {
   "cell_type": "markdown",
   "id": "91459627-166b-43f9-94c2-9988d5d5d5ea",
   "metadata": {},
   "source": [
    "#### 균등하게 분포된 3x3 배열 만들기"
   ]
  },
  {
   "cell_type": "code",
   "execution_count": 82,
   "id": "c37c06e2-e808-4591-9475-a9ec05f6977a",
   "metadata": {},
   "outputs": [
    {
     "data": {
      "text/plain": [
       "array([[0.27184861, 0.25471365, 0.8668867 ],\n",
       "       [0.91592991, 0.93153889, 0.17613694],\n",
       "       [0.4282115 , 0.96651182, 0.1029761 ]])"
      ]
     },
     "execution_count": 82,
     "metadata": {},
     "output_type": "execute_result"
    }
   ],
   "source": [
    "np.random.random((3,3))"
   ]
  },
  {
   "cell_type": "markdown",
   "id": "663a5cf3-3b72-490e-a1b2-d093cd05f8c0",
   "metadata": {},
   "source": [
    "#### 정규 분포(평균 0 , 표준편차 1)의 난수로 채운 3x3 배열 만들기"
   ]
  },
  {
   "cell_type": "code",
   "execution_count": 85,
   "id": "5c54ff09-35c3-4490-9ba0-f6e03c902acc",
   "metadata": {},
   "outputs": [
    {
     "data": {
      "text/plain": [
       "array([[-0.84258891, -1.54018428, -0.22609705],\n",
       "       [-0.1122613 , -2.3206189 , -1.66572905],\n",
       "       [ 1.63075118,  1.42961661,  0.26560946]])"
      ]
     },
     "execution_count": 85,
     "metadata": {},
     "output_type": "execute_result"
    }
   ],
   "source": [
    "np.random.normal(0, 1, (3,3))"
   ]
  },
  {
   "cell_type": "markdown",
   "id": "0fc78cb0-9ae9-47dc-82dc-2cdcf1ddf707",
   "metadata": {},
   "source": [
    "#### [0,10] 구간의 랜덤 정수로 채운 3x3 배열 만들기"
   ]
  },
  {
   "cell_type": "code",
   "execution_count": 87,
   "id": "c1f173ab-8919-4de1-bf26-c890d899207c",
   "metadata": {},
   "outputs": [
    {
     "data": {
      "text/plain": [
       "array([[6, 8, 8],\n",
       "       [8, 4, 6],\n",
       "       [0, 2, 1]])"
      ]
     },
     "execution_count": 87,
     "metadata": {},
     "output_type": "execute_result"
    }
   ],
   "source": [
    "np.random.randint(0, 10, (3,3))"
   ]
  },
  {
   "cell_type": "markdown",
   "id": "240dc2e3-84ba-4cc4-a396-96020957aa8f",
   "metadata": {},
   "source": [
    "#### 3x3 단위 행렬 만들기"
   ]
  },
  {
   "cell_type": "code",
   "execution_count": 94,
   "id": "eae506ea-210f-4139-b226-36f2323c5daa",
   "metadata": {},
   "outputs": [
    {
     "data": {
      "text/plain": [
       "array([[1., 0., 0.],\n",
       "       [0., 1., 0.],\n",
       "       [0., 0., 1.]])"
      ]
     },
     "execution_count": 94,
     "metadata": {},
     "output_type": "execute_result"
    }
   ],
   "source": [
    "np.eye(3)"
   ]
  },
  {
   "cell_type": "markdown",
   "id": "bae76e74-5d29-417c-9906-5bbae4f5cf37",
   "metadata": {},
   "source": [
    "#### 3개의 정수를 가지는 초기화 안된 배열 만들기\n",
    "#### 값은 해당 메모리 위치에 이미 존재하는 값으로 채움"
   ]
  },
  {
   "cell_type": "code",
   "execution_count": 96,
   "id": "491f48f8-8984-4cd0-9486-a0f336bd4cf7",
   "metadata": {},
   "outputs": [
    {
     "data": {
      "text/plain": [
       "array([1., 1., 1.])"
      ]
     },
     "execution_count": 96,
     "metadata": {},
     "output_type": "execute_result"
    }
   ],
   "source": [
    "np.empty(3)"
   ]
  },
  {
   "cell_type": "markdown",
   "id": "fb197979-3e53-4ea4-ad9a-455f69f562d8",
   "metadata": {},
   "source": [
    "#### 이미지 1장"
   ]
  },
  {
   "cell_type": "code",
   "execution_count": 109,
   "id": "c335c4b8-bdde-46d8-af73-3d861caa98db",
   "metadata": {},
   "outputs": [
    {
     "data": {
      "text/plain": [
       "((1, 3, 224, 224), 150528)"
      ]
     },
     "execution_count": 109,
     "metadata": {},
     "output_type": "execute_result"
    }
   ],
   "source": [
    "color_image = np.random.random((1, 3, 224, 224))\n",
    "color_image.shape, color_image.size"
   ]
  },
  {
   "cell_type": "markdown",
   "id": "ac3219ae-8eb9-4588-9a5a-410c8a66f6bc",
   "metadata": {},
   "source": [
    "#### 정규분포 이미지"
   ]
  },
  {
   "cell_type": "code",
   "execution_count": 106,
   "id": "4410cde7-d4f1-4a42-b974-beb186c08d39",
   "metadata": {},
   "outputs": [],
   "source": [
    "import matplotlib.pyplot as plt"
   ]
  },
  {
   "cell_type": "code",
   "execution_count": 107,
   "id": "c92c486d-7405-47bd-9b7f-a995fdbe1fa2",
   "metadata": {},
   "outputs": [
    {
     "data": {
      "text/plain": [
       "(array([1.6000e+01, 4.4500e+02, 4.6490e+03, 2.3380e+04, 4.9959e+04,\n",
       "        4.7886e+04, 2.0225e+04, 3.6820e+03, 2.7900e+02, 7.0000e+00]),\n",
       " array([-4.64799507, -3.70800835, -2.76802163, -1.82803491, -0.88804819,\n",
       "         0.05193853,  0.99192524,  1.93191196,  2.87189868,  3.8118854 ,\n",
       "         4.75187212]),\n",
       " <BarContainer object of 10 artists>)"
      ]
     },
     "execution_count": 107,
     "metadata": {},
     "output_type": "execute_result"
    },
    {
     "data": {
      "image/png": "[encoded data removed]",
      "text/plain": [
       "<Figure size 640x480 with 1 Axes>"
      ]
     },
     "metadata": {},
     "output_type": "display_data"
    }
   ],
   "source": [
    "color_image2 = np.random.normal(0, 1, (1, 3, 224, 224))\n",
    "plt.hist(color_image2.flatten())"
   ]
  },
  {
   "cell_type": "markdown",
   "id": "fa80b4ab-4441-4c42-a784-532c31ca2df3",
   "metadata": {},
   "source": [
    "#### numpy 배열 속성 지정\n",
    "+ 배열의 크기(shape), 차원(ndim), 사이즈(size), 타입(dtype)"
   ]
  },
  {
   "cell_type": "code",
   "execution_count": 176,
   "id": "4709e9b8-1b1a-42de-9b56-201ae5bf12c6",
   "metadata": {},
   "outputs": [],
   "source": [
    "np.random.seed(0) # 재현 가능성을 위한 시드값\n",
    "x1 = np.random.randint(10, size=6) #1차원 배열\n",
    "x2 = np.arange(1,13).reshape((3,4)) #2차원 배열\n",
    "x3 = np.random.randint(10, size=(3,4,5)) #3차원 배열"
   ]
  },
  {
   "cell_type": "code",
   "execution_count": 112,
   "id": "fb7b69da-c91e-45b4-8c9d-fb13c2d001f7",
   "metadata": {},
   "outputs": [
    {
     "name": "stdout",
     "output_type": "stream",
     "text": [
      "x3 ndim:  3\n",
      "x3 shape:  (3, 4, 5)\n",
      "x3 size:  60\n",
      "x3 type:  int32\n"
     ]
    }
   ],
   "source": [
    "print(\"x3 ndim: \", x3.ndim)\n",
    "print(\"x3 shape: \", x3.shape)\n",
    "print(\"x3 size: \", x3.size)\n",
    "print(\"x3 type: \", x3.dtype)\n"
   ]
  },
  {
   "cell_type": "markdown",
   "id": "c750241b-1ad3-4e6b-8898-694da5a7d945",
   "metadata": {},
   "source": [
    "#### numpy 배열 인덱싱 / 슬라이싱\n",
    "+ 기본적인 python list와 같음\n",
    "  "
   ]
  },
  {
   "cell_type": "code",
   "execution_count": 114,
   "id": "e7d3b0d8-3130-493a-abc9-41dd76c7b1f9",
   "metadata": {},
   "outputs": [
    {
     "data": {
      "text/plain": [
       "array([5, 0, 3, 3, 7, 9])"
      ]
     },
     "execution_count": 114,
     "metadata": {},
     "output_type": "execute_result"
    }
   ],
   "source": [
    "x1"
   ]
  },
  {
   "cell_type": "code",
   "execution_count": 115,
   "id": "13e43a48-2ed5-4c88-842f-44ab27a1c16d",
   "metadata": {},
   "outputs": [
    {
     "data": {
      "text/plain": [
       "5"
      ]
     },
     "execution_count": 115,
     "metadata": {},
     "output_type": "execute_result"
    }
   ],
   "source": [
    "x1[0]"
   ]
  },
  {
   "cell_type": "code",
   "execution_count": 116,
   "id": "9a300fc1-b7ba-4ac3-a79a-b41647ab9682",
   "metadata": {},
   "outputs": [
    {
     "data": {
      "text/plain": [
       "3"
      ]
     },
     "execution_count": 116,
     "metadata": {},
     "output_type": "execute_result"
    }
   ],
   "source": [
    "x1[-3]"
   ]
  },
  {
   "cell_type": "code",
   "execution_count": 180,
   "id": "96bdd9d0-cb1c-41c7-b862-5dcb5cd66892",
   "metadata": {},
   "outputs": [
    {
     "data": {
      "text/plain": [
       "array([[ 1,  2,  3,  4],\n",
       "       [ 5,  6,  7,  8],\n",
       "       [ 9, 10, 11, 12]])"
      ]
     },
     "execution_count": 180,
     "metadata": {},
     "output_type": "execute_result"
    }
   ],
   "source": [
    "x2"
   ]
  },
  {
   "cell_type": "code",
   "execution_count": 179,
   "id": "3098369d-32b0-4eda-99b6-c776131acb2d",
   "metadata": {},
   "outputs": [
    {
     "data": {
      "text/plain": [
       "1"
      ]
     },
     "execution_count": 179,
     "metadata": {},
     "output_type": "execute_result"
    }
   ],
   "source": [
    "x2[0,0]"
   ]
  },
  {
   "cell_type": "code",
   "execution_count": 178,
   "id": "662888be-fb89-491e-bee4-7e23a043ebe8",
   "metadata": {},
   "outputs": [
    {
     "data": {
      "text/plain": [
       "12"
      ]
     },
     "execution_count": 178,
     "metadata": {},
     "output_type": "execute_result"
    }
   ],
   "source": [
    "x2[2,-1]"
   ]
  },
  {
   "cell_type": "code",
   "execution_count": 177,
   "id": "5b9a91e5-c67a-4867-940b-5331b3301075",
   "metadata": {},
   "outputs": [
    {
     "data": {
      "text/plain": [
       "array([3, 0, 3, 3, 7, 9])"
      ]
     },
     "execution_count": 177,
     "metadata": {},
     "output_type": "execute_result"
    }
   ],
   "source": [
    "x1[0] = 3.14 # numpy는 고정타입이므로 정수 타입에 소수를 입력할 경우 소숫점이 잘림\n",
    "x1"
   ]
  },
  {
   "cell_type": "code",
   "execution_count": 133,
   "id": "fb459c6d-c097-4253-933b-8539fd885e59",
   "metadata": {},
   "outputs": [
    {
     "data": {
      "text/plain": [
       "array([3, 3])"
      ]
     },
     "execution_count": 133,
     "metadata": {},
     "output_type": "execute_result"
    }
   ],
   "source": [
    "x1[2:4]\n"
   ]
  },
  {
   "cell_type": "code",
   "execution_count": 134,
   "id": "7e8778bb-9221-402d-b6b7-da8d7fce359c",
   "metadata": {},
   "outputs": [
    {
     "data": {
      "text/plain": [
       "array([9, 7, 3, 3, 0, 3])"
      ]
     },
     "execution_count": 134,
     "metadata": {},
     "output_type": "execute_result"
    }
   ],
   "source": [
    "x1[::-1]"
   ]
  },
  {
   "cell_type": "code",
   "execution_count": 138,
   "id": "3846dff9-aeee-4210-9fd2-7ebc389fe7fc",
   "metadata": {},
   "outputs": [
    {
     "data": {
      "text/plain": [
       "array([9, 3, 0])"
      ]
     },
     "execution_count": 138,
     "metadata": {},
     "output_type": "execute_result"
    }
   ],
   "source": [
    "x1[5::-2]"
   ]
  },
  {
   "cell_type": "code",
   "execution_count": 181,
   "id": "cd4a209d-58da-4331-8186-cc68191561b2",
   "metadata": {},
   "outputs": [
    {
     "data": {
      "text/plain": [
       "array([[12, 11, 10,  9],\n",
       "       [ 8,  7,  6,  5],\n",
       "       [ 4,  3,  2,  1]])"
      ]
     },
     "execution_count": 181,
     "metadata": {},
     "output_type": "execute_result"
    }
   ],
   "source": [
    "x2[::-1, ::-1]"
   ]
  },
  {
   "cell_type": "code",
   "execution_count": 182,
   "id": "57cd3688-6efb-4b16-b49b-01d3568977e5",
   "metadata": {},
   "outputs": [
    {
     "data": {
      "text/plain": [
       "array([[1, 2, 3],\n",
       "       [5, 6, 7]])"
      ]
     },
     "execution_count": 182,
     "metadata": {},
     "output_type": "execute_result"
    }
   ],
   "source": [
    "x2[:2, :3]"
   ]
  },
  {
   "cell_type": "code",
   "execution_count": 183,
   "id": "fb750b90-b8b6-45e8-81f0-938db6c9f8ca",
   "metadata": {},
   "outputs": [
    {
     "data": {
      "text/plain": [
       "array([[2, 3],\n",
       "       [6, 7]])"
      ]
     },
     "execution_count": 183,
     "metadata": {},
     "output_type": "execute_result"
    }
   ],
   "source": [
    "x2[0:2, 1:3]"
   ]
  },
  {
   "cell_type": "markdown",
   "id": "81194972-3b75-465e-ac3a-99df26a4110a",
   "metadata": {},
   "source": [
    "#### 배열 재구조화(reshape, newaxis)"
   ]
  },
  {
   "cell_type": "code",
   "execution_count": 146,
   "id": "821b190d-86ac-4b1c-8f08-64b973e76cb7",
   "metadata": {},
   "outputs": [
    {
     "name": "stdout",
     "output_type": "stream",
     "text": [
      "[[1 2 3]\n",
      " [4 5 6]\n",
      " [7 8 9]]\n"
     ]
    }
   ],
   "source": [
    "grid = np.arange(1,10).reshape((3,3))\n",
    "print(grid)"
   ]
  },
  {
   "cell_type": "code",
   "execution_count": 156,
   "id": "3ebbc177-ad3e-4295-b348-451fa6ae47f3",
   "metadata": {},
   "outputs": [
    {
     "name": "stdout",
     "output_type": "stream",
     "text": [
      "[1 2 3]\n",
      "[1 2 3]\n"
     ]
    },
    {
     "data": {
      "text/plain": [
       "array([[1],\n",
       "       [2],\n",
       "       [3]])"
      ]
     },
     "execution_count": 156,
     "metadata": {},
     "output_type": "execute_result"
    }
   ],
   "source": [
    "x = np.array([1,2,3])\n",
    "print(x)\n",
    "x.reshape((1,3))  # reshape를 이용한 행 벡터\n",
    "print(x)\n",
    "x.reshape((3,1)) # reshape를 이용한 열 벡터"
   ]
  },
  {
   "cell_type": "code",
   "execution_count": 162,
   "id": "ebf504a4-09dd-415f-b1f1-1ae861b067b9",
   "metadata": {},
   "outputs": [
    {
     "name": "stdout",
     "output_type": "stream",
     "text": [
      "[1 2 3]\n"
     ]
    },
    {
     "data": {
      "text/plain": [
       "array([[1],\n",
       "       [2],\n",
       "       [3]])"
      ]
     },
     "execution_count": 162,
     "metadata": {},
     "output_type": "execute_result"
    }
   ],
   "source": [
    "x[np.newaxis, :] # newaxis를 이용한 행 벡터\n",
    "print(x)\n",
    "x[: , np.newaxis] # newaxis를 이용한 열 벡터"
   ]
  },
  {
   "cell_type": "markdown",
   "id": "c5aeed25-0622-4993-99d8-5b2792d94058",
   "metadata": {},
   "source": [
    "#### 배열 연결 / 배열 분할\n",
    "+ concatenate, vstack, hstack 으로 연결\n",
    "+ split, hsplit, vsplit 으로 분할"
   ]
  },
  {
   "cell_type": "code",
   "execution_count": 164,
   "id": "6a7303fa-936b-4295-aaff-d460cb7d7a38",
   "metadata": {},
   "outputs": [
    {
     "data": {
      "text/plain": [
       "array([1, 2, 3, 4, 5, 6])"
      ]
     },
     "execution_count": 164,
     "metadata": {},
     "output_type": "execute_result"
    }
   ],
   "source": [
    "x = np.array([1,2,3])\n",
    "y = np.array([4,5,6])\n",
    "np.concatenate([x,y])  # 2개의 배열 연결"
   ]
  },
  {
   "cell_type": "code",
   "execution_count": 168,
   "id": "4f1d3f27-9072-4065-96db-a37fe2a32107",
   "metadata": {},
   "outputs": [
    {
     "data": {
      "text/plain": [
       "array([ 1,  2,  3,  4,  5,  6, 99, 99, 99])"
      ]
     },
     "execution_count": 168,
     "metadata": {},
     "output_type": "execute_result"
    }
   ],
   "source": [
    "z = [99, 99, 99]\n",
    "np.concatenate([x,y,z]) # 3개의 배열 연결"
   ]
  },
  {
   "cell_type": "code",
   "execution_count": 170,
   "id": "e94bd19a-b35e-4680-98c8-301cb81f05a5",
   "metadata": {},
   "outputs": [
    {
     "data": {
      "text/plain": [
       "array([[ 1,  2,  3],\n",
       "       [99, 99, 99]])"
      ]
     },
     "execution_count": 170,
     "metadata": {},
     "output_type": "execute_result"
    }
   ],
   "source": [
    "np.vstack([x,z])  # 배열을 수직으로 쌓음"
   ]
  },
  {
   "cell_type": "code",
   "execution_count": 172,
   "id": "4caa571f-57f0-4a3f-845b-ef0eff02edf8",
   "metadata": {},
   "outputs": [
    {
     "data": {
      "text/plain": [
       "array([ 1,  2,  3, 99, 99, 99])"
      ]
     },
     "execution_count": 172,
     "metadata": {},
     "output_type": "execute_result"
    }
   ],
   "source": [
    "np.hstack([x,z]) # 배열을 수평으로 쌓음"
   ]
  },
  {
   "cell_type": "code",
   "execution_count": 186,
   "id": "7f212c89-2a57-430f-bbad-925d50f6a4c1",
   "metadata": {},
   "outputs": [
    {
     "name": "stdout",
     "output_type": "stream",
     "text": [
      "[1 2 3] [99 99] [3 2 1]\n"
     ]
    }
   ],
   "source": [
    "x = [1,2,3,99,99,3,2,1]\n",
    "x1,x2,x3 = np.split(x, [3,5])\n",
    "print(x1,x2,x3)"
   ]
  }
 ],
 "metadata": {
  "kernelspec": {
   "display_name": "Python 3 (ipykernel)",
   "language": "python",
   "name": "python3"
  },
  "language_info": {
   "codemirror_mode": {
    "name": "ipython",
    "version": 3
   },
   "file_extension": ".py",
   "mimetype": "text/x-python",
   "name": "python",
   "nbconvert_exporter": "python",
   "pygments_lexer": "ipython3",
   "version": "3.9.13"
  }
 },
 "nbformat": 4,
 "nbformat_minor": 5
}
