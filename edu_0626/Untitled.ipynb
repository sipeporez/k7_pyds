{
 "cells": [
  {
   "cell_type": "markdown",
   "id": "a42044ee-bb2b-4ade-bcfc-a5eab2dd4f70",
   "metadata": {},
   "source": [
    "#### Numpy 배열 합치기"
   ]
  },
  {
   "cell_type": "code",
   "execution_count": 12,
   "id": "2d67839a-34ef-42f5-85ed-86a292abfc4c",
   "metadata": {},
   "outputs": [
    {
     "data": {
      "text/plain": [
       "(array([1, 2, 3, 4, 5, 6]), (6,))"
      ]
     },
     "execution_count": 12,
     "metadata": {},
     "output_type": "execute_result"
    }
   ],
   "source": [
    "import numpy as np\n",
    "# 1차원\n",
    "a = np.array([1,2,3])\n",
    "b = np.array([4,5,6])\n",
    "np.concatenate([a,b]), np.concatenate([a,b]).shape"
   ]
  },
  {
   "cell_type": "code",
   "execution_count": 10,
   "id": "5302555e-0a30-468c-b3de-efd4f2c1cbd6",
   "metadata": {},
   "outputs": [
    {
     "data": {
      "text/plain": [
       "(array([[1, 2, 3],\n",
       "        [4, 5, 6]]),\n",
       " (2, 3))"
      ]
     },
     "execution_count": 10,
     "metadata": {},
     "output_type": "execute_result"
    }
   ],
   "source": [
    "#2차원\n",
    "np.vstack([a,b]), np.vstack([a,b]).shape"
   ]
  },
  {
   "cell_type": "code",
   "execution_count": 11,
   "id": "6feb11b0-1272-4eea-99bc-83e4ae9e0812",
   "metadata": {},
   "outputs": [
    {
     "data": {
      "text/plain": [
       "(array([1, 2, 3, 4, 5, 6]), (6,))"
      ]
     },
     "execution_count": 11,
     "metadata": {},
     "output_type": "execute_result"
    }
   ],
   "source": [
    "np.hstack([a,b]), np.hstack([a,b]).shape"
   ]
  },
  {
   "cell_type": "code",
   "execution_count": 17,
   "id": "f9ff809e-b1a6-4216-a8f0-61f68727d9e8",
   "metadata": {},
   "outputs": [
    {
     "data": {
      "text/plain": [
       "(6,)"
      ]
     },
     "execution_count": 17,
     "metadata": {},
     "output_type": "execute_result"
    }
   ],
   "source": [
    "c = np.concatenate([a,b])\n",
    "c.shape"
   ]
  },
  {
   "cell_type": "markdown",
   "id": "76b27ca5-cef3-4884-94ec-8b22c8fa6a99",
   "metadata": {},
   "source": [
    "#### 배열 분할 - split"
   ]
  },
  {
   "cell_type": "code",
   "execution_count": 29,
   "id": "77adf2c1-f27e-4d85-862e-5c33cd475c57",
   "metadata": {},
   "outputs": [
    {
     "data": {
      "text/plain": [
       "array([ 1,  2,  3,  4,  5,  6,  7,  8,  9, 10])"
      ]
     },
     "execution_count": 29,
     "metadata": {},
     "output_type": "execute_result"
    }
   ],
   "source": [
    "arr = np.arange(1, 11)\n",
    "arr"
   ]
  },
  {
   "cell_type": "code",
   "execution_count": 32,
   "id": "54079b47-271b-4559-b652-8b44a3097acd",
   "metadata": {},
   "outputs": [
    {
     "data": {
      "text/plain": [
       "[array([1, 2, 3]), array([4, 5]), array([6, 7]), array([ 8,  9, 10])]"
      ]
     },
     "execution_count": 32,
     "metadata": {},
     "output_type": "execute_result"
    }
   ],
   "source": [
    "np.split(arr,[3,5,7])\n",
    "# index - 012 / 34 / 56 / 789"
   ]
  },
  {
   "cell_type": "markdown",
   "id": "4d375d8d-619c-47d8-8a73-c761d6bb571c",
   "metadata": {},
   "source": [
    "## 유니버셜 함수 (Universal Function)"
   ]
  },
  {
   "cell_type": "code",
   "execution_count": 51,
   "id": "3703fb8e-4764-40a6-a2be-bbf17898d200",
   "metadata": {},
   "outputs": [
    {
     "data": {
      "text/plain": [
       "1000000"
      ]
     },
     "execution_count": 51,
     "metadata": {},
     "output_type": "execute_result"
    }
   ],
   "source": [
    "def calc(values):\n",
    "    results = []\n",
    "    for i in values:\n",
    "        results.append(1 / i)\n",
    "    return results"
   ]
  },
  {
   "cell_type": "code",
   "execution_count": 57,
   "id": "2715c7f1-88a8-4245-8805-8d46278fa73d",
   "metadata": {},
   "outputs": [
    {
     "name": "stdout",
     "output_type": "stream",
     "text": [
      "70.9 ms ± 1.26 ms per loop (mean ± std. dev. of 7 runs, 10 loops each)\n"
     ]
    }
   ],
   "source": [
    "data = range(1,1000001)\n",
    "%timeit calc(data)"
   ]
  },
  {
   "cell_type": "code",
   "execution_count": 54,
   "id": "d202f81f-9edb-410c-bfa2-93c03a13ef45",
   "metadata": {},
   "outputs": [
    {
     "name": "stdout",
     "output_type": "stream",
     "text": [
      "2.07 ms ± 32.4 µs per loop (mean ± std. dev. of 7 runs, 1,000 loops each)\n"
     ]
    }
   ],
   "source": [
    "data2 = np.arange(1,1000001)\n",
    "%timeit 1/data2"
   ]
  },
  {
   "cell_type": "markdown",
   "id": "b0ae75f2-ad45-4b74-9006-ab7e579de30b",
   "metadata": {},
   "source": [
    "#### Numpy는 아래의 예제 클래스와 같은 연산용 유니버셜 함수가 있기 때문에 속도가 빠름"
   ]
  },
  {
   "cell_type": "code",
   "execution_count": 63,
   "id": "235f82cf-441c-4793-bc32-203ceb7becea",
   "metadata": {},
   "outputs": [
    {
     "data": {
      "text/plain": [
       "(3, -1)"
      ]
     },
     "execution_count": 63,
     "metadata": {},
     "output_type": "execute_result"
    }
   ],
   "source": [
    "class Int:\n",
    "    def __init__(self, x):\n",
    "        self._x = x\n",
    "    def __add__(self, other):\n",
    "        return self._x +other._x\n",
    "    def __sub__(self, other):\n",
    "        return self._x -other._x\n",
    "\n",
    "a = Int(1)\n",
    "b = Int(2)\n",
    "a+b, a-b"
   ]
  },
  {
   "cell_type": "markdown",
   "id": "8b936dd1-e64a-493f-bc9d-911f59bee985",
   "metadata": {},
   "source": [
    "#### 아래의 산술 연산자들은 Numpy 유니버셜 함수들의 wrapper 함수임"
   ]
  },
  {
   "cell_type": "code",
   "execution_count": 73,
   "id": "0d3adb49-d1ef-4d0e-919f-56ebb6336fde",
   "metadata": {},
   "outputs": [
    {
     "name": "stdout",
     "output_type": "stream",
     "text": [
      "x        = [0 1 2 3]\n",
      "x + 5    = [5 6 7 8]\n",
      "x - 5    = [-5 -4 -3 -2]\n",
      "x * 2    = [0 2 4 6]\n",
      "x / 2    = [0.  0.5 1.  1.5]\n",
      "x // 2   = [0 0 1 1]\n",
      "-x       = [ 0 -1 -2 -3]\n",
      "x ** 2   = [0 1 4 9]\n",
      "x % 2    = [0 1 0 1]\n"
     ]
    }
   ],
   "source": [
    "x = np.arange(4)\n",
    "print(\"x        =\", x)\n",
    "print(\"x + 5    =\", x+5)\n",
    "print(\"x - 5    =\", x-5)\n",
    "print(\"x * 2    =\", x*2)\n",
    "print(\"x / 2    =\", x/2)\n",
    "print(\"x // 2   =\", x//2)\n",
    "print(\"-x       =\", -x)\n",
    "print(\"x ** 2   =\", x**2)\n",
    "print(\"x % 2    =\", x%2)"
   ]
  },
  {
   "cell_type": "markdown",
   "id": "92295e02-5ab9-4a65-87dc-7501f28b34b1",
   "metadata": {},
   "source": [
    "#### 삼각함수"
   ]
  },
  {
   "cell_type": "code",
   "execution_count": 76,
   "id": "94bc32a6-18c9-4ee6-8818-000b2807cb70",
   "metadata": {},
   "outputs": [
    {
     "data": {
      "text/plain": [
       "array([0.        , 1.57079633, 3.14159265])"
      ]
     },
     "execution_count": 76,
     "metadata": {},
     "output_type": "execute_result"
    }
   ],
   "source": [
    "theta = np.linspace(0, np.pi, 3)\n",
    "theta"
   ]
  },
  {
   "cell_type": "code",
   "execution_count": 81,
   "id": "4f6f260d-0146-4ec7-9acb-9aa0ac934f4b",
   "metadata": {},
   "outputs": [
    {
     "name": "stdout",
     "output_type": "stream",
     "text": [
      "sin(theta)   =  [0.0000000e+00 1.0000000e+00 1.2246468e-16]\n",
      "cos(theta)   =  [ 1.000000e+00  6.123234e-17 -1.000000e+00]\n",
      "tan(theta)   =  [ 0.00000000e+00  1.63312394e+16 -1.22464680e-16]\n"
     ]
    }
   ],
   "source": [
    "print(\"sin(theta)   = \",np.sin(theta))\n",
    "print(\"cos(theta)   = \",np.cos(theta))\n",
    "print(\"tan(theta)   = \",np.tan(theta))"
   ]
  },
  {
   "cell_type": "markdown",
   "id": "71495c08-85ab-427a-a8f9-05bb74467a75",
   "metadata": {},
   "source": [
    "#### 지수 / 로그 연산"
   ]
  },
  {
   "cell_type": "code",
   "execution_count": 90,
   "id": "a3d3da31-6531-496a-b87d-142ff969e9af",
   "metadata": {},
   "outputs": [
    {
     "name": "stdout",
     "output_type": "stream",
     "text": [
      "x    =  [1 2 3]\n",
      "e^x  =  [ 2.71828183  7.3890561  20.08553692]\n",
      "2^x  =  [2. 4. 8.]\n",
      "5^x  =  [  5  25 125]\n"
     ]
    }
   ],
   "source": [
    "x = np.arange(1,4)\n",
    "print(\"x    = \",x)\n",
    "print(\"e^x  = \",np.exp(x))\n",
    "print(\"2^x  = \",np.exp2(x))\n",
    "print(\"5^x  = \",np.power(5,x))"
   ]
  },
  {
   "cell_type": "code",
   "execution_count": 94,
   "id": "cf31010b-081e-4416-967c-d1843bae0380",
   "metadata": {},
   "outputs": [
    {
     "name": "stdout",
     "output_type": "stream",
     "text": [
      "x        =  [1 2 3]\n",
      "ln(x)    =  [0.         0.69314718 1.09861229]\n",
      "log2(x)  =  [0.        1.        1.5849625]\n",
      "log10(x) =  [0.         0.30103    0.47712125]\n"
     ]
    }
   ],
   "source": [
    "print(\"x        = \",x)\n",
    "print(\"ln(x)    = \",np.log(x))\n",
    "print(\"log2(x)  = \",np.log2(x))\n",
    "print(\"log10(x) = \",np.log10(x))"
   ]
  },
  {
   "cell_type": "markdown",
   "id": "46140dca-4683-4779-9d4f-f317a7dc3fce",
   "metadata": {},
   "source": [
    "#### 매우 작은 입력값의 정확도 유지"
   ]
  },
  {
   "cell_type": "code",
   "execution_count": 99,
   "id": "1ba0fa8e-066a-4417-9c9a-beb6d009bda1",
   "metadata": {},
   "outputs": [
    {
     "name": "stdout",
     "output_type": "stream",
     "text": [
      "x           =  [0.      0.00025 0.0005  0.00075 0.001  ]\n",
      "exp(x) - 1  =  [0.         0.00025003 0.00050013 0.00075028 0.0010005 ]\n",
      "log(1 + x)  =  [0.         0.00024997 0.00049988 0.00074972 0.0009995 ]\n"
     ]
    }
   ],
   "source": [
    "x = np.linspace(0, 0.001, 5)\n",
    "\n",
    "print(\"x           = \",x)\n",
    "print(\"exp(x) - 1  = \",np.expm1(x))\n",
    "print(\"log(1 + x)  = \",np.log1p(x))"
   ]
  },
  {
   "cell_type": "markdown",
   "id": "39ff135b-c0d4-4ed3-be67-73804704b5f7",
   "metadata": {},
   "source": [
    "#### 출력 지정 (out)"
   ]
  },
  {
   "cell_type": "code",
   "execution_count": 102,
   "id": "925713fd-93d6-48cd-a59f-6d8f7a4809e0",
   "metadata": {},
   "outputs": [
    {
     "name": "stdout",
     "output_type": "stream",
     "text": [
      "[  0.  50. 100. 150. 200.]\n"
     ]
    }
   ],
   "source": [
    "x = np.arange(5)\n",
    "y = np.empty(5)\n",
    "np.multiply(x, 50, out=y)\n",
    "print(y)"
   ]
  },
  {
   "cell_type": "markdown",
   "id": "2076faed-04a3-4266-b9d1-cc8db720161f",
   "metadata": {},
   "source": [
    "#### 배열 요소가 1개가 남을때까지 반복 - reduce\n",
    "#### 계산 중간 결과를 저장 - accumulate"
   ]
  },
  {
   "cell_type": "code",
   "execution_count": 109,
   "id": "e343ca3b-d388-4693-b2b9-b926545ab3ab",
   "metadata": {},
   "outputs": [
    {
     "name": "stdout",
     "output_type": "stream",
     "text": [
      "15\n",
      "[ 1  3  6 10 15]\n"
     ]
    }
   ],
   "source": [
    "x = np.arange(1,6)\n",
    "print(np.add.reduce(x))\n",
    "print(np.add.accumulate(x))"
   ]
  },
  {
   "cell_type": "markdown",
   "id": "424ad4e0-61e0-42f9-8e99-ea1de4be4b55",
   "metadata": {},
   "source": [
    "#### 모든 순서쌍에 대한 출력값 계산 - outer"
   ]
  },
  {
   "cell_type": "code",
   "execution_count": 114,
   "id": "823515ed-2f28-4e4f-90c7-bdc774df9e0a",
   "metadata": {},
   "outputs": [
    {
     "name": "stdout",
     "output_type": "stream",
     "text": [
      "[[ 1  2  3  4  5  6  7  8  9]\n",
      " [ 2  4  6  8 10 12 14 16 18]\n",
      " [ 3  6  9 12 15 18 21 24 27]\n",
      " [ 4  8 12 16 20 24 28 32 36]\n",
      " [ 5 10 15 20 25 30 35 40 45]\n",
      " [ 6 12 18 24 30 36 42 48 54]\n",
      " [ 7 14 21 28 35 42 49 56 63]\n",
      " [ 8 16 24 32 40 48 56 64 72]\n",
      " [ 9 18 27 36 45 54 63 72 81]]\n"
     ]
    }
   ],
   "source": [
    "# 코드 한줄로 구구단 작성\n",
    "print(np.multiply.outer(np.arange(1,10), np.arange(1,10)))"
   ]
  },
  {
   "cell_type": "markdown",
   "id": "fcce5ede-2232-4df4-a395-d3a8b675231b",
   "metadata": {},
   "source": [
    "#### 집계함수 속도 비교"
   ]
  },
  {
   "cell_type": "code",
   "execution_count": 130,
   "id": "237a0f63-68c6-41f2-aae7-4a8e8fda4231",
   "metadata": {},
   "outputs": [
    {
     "data": {
      "text/plain": [
       "(range(1, 1000000),\n",
       " array([     1,      2,      3, ..., 999997, 999998, 999999]))"
      ]
     },
     "execution_count": 130,
     "metadata": {},
     "output_type": "execute_result"
    }
   ],
   "source": [
    "x = range(1,1000000)\n",
    "y = np.arange(1,1000000)\n",
    "\n",
    "x,y"
   ]
  },
  {
   "cell_type": "code",
   "execution_count": 131,
   "id": "2f79cdbe-f836-4ef6-89f7-dd9a21cad71a",
   "metadata": {},
   "outputs": [
    {
     "name": "stdout",
     "output_type": "stream",
     "text": [
      "49.2 ms ± 1.63 ms per loop (mean ± std. dev. of 7 runs, 10 loops each)\n"
     ]
    }
   ],
   "source": [
    "%%timeit\n",
    "sum(x)\n",
    "min(x)\n",
    "max(x)"
   ]
  },
  {
   "cell_type": "code",
   "execution_count": 132,
   "id": "6ccb94fc-77b8-4833-a6a3-76597bf61f67",
   "metadata": {},
   "outputs": [
    {
     "name": "stdout",
     "output_type": "stream",
     "text": [
      "327 µs ± 1.44 µs per loop (mean ± std. dev. of 7 runs, 1,000 loops each)\n"
     ]
    }
   ],
   "source": [
    "%%timeit\n",
    "np.sum(y)\n",
    "np.min(y)\n",
    "np.max(y)"
   ]
  },
  {
   "cell_type": "code",
   "execution_count": 159,
   "id": "4e771b58-9297-41df-b43e-3a0db8b1cbc6",
   "metadata": {},
   "outputs": [
    {
     "name": "stdout",
     "output_type": "stream",
     "text": [
      "[[ 1  2  3  4]\n",
      " [ 5  6  7  8]\n",
      " [ 9 10 11 12]]\n"
     ]
    },
    {
     "data": {
      "text/plain": [
       "array([15, 18, 21, 24])"
      ]
     },
     "execution_count": 159,
     "metadata": {},
     "output_type": "execute_result"
    }
   ],
   "source": [
    "data = np.arange(1,13).reshape(3,4)\n",
    "print(data)\n",
    "np.sum(data, axis=0)"
   ]
  },
  {
   "cell_type": "code",
   "execution_count": 169,
   "id": "70a2b9f0-0eea-4745-ad90-cb7e96d790ad",
   "metadata": {},
   "outputs": [
    {
     "name": "stdout",
     "output_type": "stream",
     "text": [
      "[ 1 24  7 12  1  7  3 21  7 14 10  5 14 10 25 28 29 16  5  1 23 13 21  2\n",
      " 14  9 22 10 22 12  2  9]\n",
      "[ 1  1  1  2  2  3  5  5  7  7  7  9  9 10 10 10 12 12 13 14 14 14 16 21\n",
      " 21 22 22 23 24 25 28 29]\n",
      "[ 0  4 19 23 30  6 18 11  2  5  8 25 31 13 10 27 29  3 21  9 24 12 17 22\n",
      "  7 26 28 20  1 14 15 16]\n"
     ]
    }
   ],
   "source": [
    "x = np.random.randint(0,30,32)\n",
    "print(x)\n",
    "\n",
    "print(np.sort(x))\n",
    "\n",
    "# 정렬이 된 배열 요소들이 원래 배열에서의 위치를 출력하는 함수\n",
    "print(np.argsort(x))"
   ]
  },
  {
   "cell_type": "markdown",
   "id": "a8c6c589-2f75-4e50-af0d-f5550b2e6847",
   "metadata": {},
   "source": [
    "#### 예제1)미국 대통령 평균 키"
   ]
  },
  {
   "cell_type": "code",
   "execution_count": 170,
   "id": "eed668a0-8f71-4579-ac26-421b89feabfd",
   "metadata": {},
   "outputs": [
    {
     "name": "stdout",
     "output_type": "stream",
     "text": [
      "['1,George', 'Washington,189']\n",
      "['2,John', 'Adams,170']\n",
      "['3,Thomas', 'Jefferson,189']\n",
      "['4,James', 'Madison,163']\n",
      "['5,James', 'Monroe,183']\n",
      "['6,John', 'Quincy', 'Adams,171']\n",
      "['7,Andrew', 'Jackson,185']\n",
      "['8,Martin', 'Van', 'Buren,168']\n",
      "['9,William', 'Henry', 'Harrison,173']\n",
      "['10,John', 'Tyler,183']\n",
      "['11,James', 'K.', 'Polk,173']\n",
      "['12,Zachary', 'Taylor,173']\n",
      "['13,Millard', 'Fillmore,175']\n",
      "['14,Franklin', 'Pierce,178']\n",
      "['15,James', 'Buchanan,183']\n",
      "['16,Abraham', 'Lincoln,193']\n",
      "['17,Andrew', 'Johnson,178']\n",
      "['18,Ulysses', 'S.', 'Grant,173']\n",
      "['19,Rutherford', 'B.', 'Hayes,174']\n",
      "['20,James', 'A.', 'Garfield,183']\n",
      "['21,Chester', 'A.', 'Arthur,183']\n",
      "['23,Benjamin', 'Harrison,168']\n",
      "['25,William', 'McKinley,170']\n",
      "['26,Theodore', 'Roosevelt,178']\n",
      "['27,William', 'Howard', 'Taft,182']\n",
      "['28,Woodrow', 'Wilson,180']\n",
      "['29,Warren', 'G.', 'Harding,183']\n",
      "['30,Calvin', 'Coolidge,178']\n",
      "['31,Herbert', 'Hoover,182']\n",
      "['32,Franklin', 'D.', 'Roosevelt,188']\n",
      "['33,Harry', 'S.', 'Truman,175']\n",
      "['34,Dwight', 'D.', 'Eisenhower,179']\n",
      "['35,John', 'F.', 'Kennedy,183']\n",
      "['36,Lyndon', 'B.', 'Johnson,193']\n",
      "['37,Richard', 'Nixon,182']\n",
      "['38,Gerald', 'Ford,183']\n",
      "['39,Jimmy', 'Carter,177']\n",
      "['40,Ronald', 'Reagan,185']\n",
      "['41,George', 'H.', 'W.', 'Bush,188']\n",
      "['42,Bill', 'Clinton,188']\n",
      "['43,George', 'W.', 'Bush,182']\n",
      "['44,Barack', 'Obama,185']\n"
     ]
    },
    {
     "data": {
      "text/plain": [
       "(179.73809523809524, numpy.float64)"
      ]
     },
     "execution_count": 170,
     "metadata": {},
     "output_type": "execute_result"
    }
   ],
   "source": [
    "with open('data/president_heights.csv') as f:\n",
    "    f.readline()\n",
    "    heights=[]\n",
    "    for line in f.readlines():\n",
    "        print(line.rstrip().split())\n",
    "        heights.append(int(line.rstrip().split(',')[-1]))\n",
    "\n",
    "heights_np = np.asarray(heights)\n",
    "\n",
    "np.average(heights_np), type(np.average(heights_np))"
   ]
  },
  {
   "cell_type": "code",
   "execution_count": 177,
   "id": "9dd16550-2533-4006-92ab-19271f5b697a",
   "metadata": {},
   "outputs": [
    {
     "data": {
      "text/plain": [
       "(array([ 1.,  2.,  3.,  5.,  3.,  6., 12.,  3.,  5.,  2.]),\n",
       " array([163., 166., 169., 172., 175., 178., 181., 184., 187., 190., 193.]),\n",
       " <BarContainer object of 10 artists>)"
      ]
     },
     "execution_count": 177,
     "metadata": {},
     "output_type": "execute_result"
    },
    {
     "data": {
      "image/png": "[encoded data removed]",
      "text/plain": [
       "<Figure size 640x480 with 1 Axes>"
      ]
     },
     "metadata": {},
     "output_type": "display_data"
    }
   ],
   "source": [
    "import matplotlib.pyplot as plt\n",
    "plt.hist(heights_np)"
   ]
  },
  {
   "cell_type": "code",
   "execution_count": 178,
   "id": "be8013c2-5064-4f71-beb5-c9487d5ae0af",
   "metadata": {},
   "outputs": [
    {
     "data": {
      "text/plain": [
       "array([4, 5, 6])"
      ]
     },
     "execution_count": 178,
     "metadata": {},
     "output_type": "execute_result"
    }
   ],
   "source": [
    "np.array([1,2,3])+3"
   ]
  },
  {
   "cell_type": "markdown",
   "id": "c4f521a7-1d0b-4cde-a73d-b2cde713035e",
   "metadata": {},
   "source": [
    "### 브로드캐스팅\n",
    "+ 규칙1 : 두 배열의 차원 수가 다르면 작은 차원의 배열 형상 앞(왼쪽)을 1로 채움\n",
    "+ 규칙2 : 두 배열의 형상이 어떤 차원에서도 일치하지 않으면 해당 차원의 형상이 1인 배열이 다른 형상과 일치하도록 늘어남\n",
    "+ 규칙3 : 임의의 차원에서 크기가 일치하지 않고 1도 아니라면 오류 발생\n"
   ]
  },
  {
   "cell_type": "code",
   "execution_count": 186,
   "id": "f4a62fe4-9260-4469-a51e-e8a72080af38",
   "metadata": {},
   "outputs": [
    {
     "data": {
      "text/plain": [
       "((2, 3), (3,))"
      ]
     },
     "execution_count": 186,
     "metadata": {},
     "output_type": "execute_result"
    }
   ],
   "source": [
    "M = np.ones((2,3))\n",
    "a = np.arange(3)\n",
    "\n",
    "M.shape, a.shape"
   ]
  },
  {
   "cell_type": "code",
   "execution_count": 189,
   "id": "bd54591e-0fb2-4b1c-9865-543c1dc3a9e5",
   "metadata": {},
   "outputs": [
    {
     "data": {
      "text/plain": [
       "array([[1., 2., 3.],\n",
       "       [1., 2., 3.]])"
      ]
     },
     "execution_count": 189,
     "metadata": {},
     "output_type": "execute_result"
    }
   ],
   "source": [
    "# 규칙 1에 따라 a가 작으므로 왼쪽을 1로 채움 (3,) -> (1,3)\n",
    "# 규칙 2에 따라 첫번째 차원이 일치하지 않으므로 해당 차원을 늘임 (1,3) -> (2,3)\n",
    "M+a"
   ]
  },
  {
   "cell_type": "code",
   "execution_count": 195,
   "id": "1268264a-d744-4e95-ae33-2e338866077d",
   "metadata": {},
   "outputs": [
    {
     "data": {
      "text/plain": [
       "((3, 1),\n",
       " (3,),\n",
       " array([[0],\n",
       "        [1],\n",
       "        [2]]),\n",
       " array([0, 1, 2]))"
      ]
     },
     "execution_count": 195,
     "metadata": {},
     "output_type": "execute_result"
    }
   ],
   "source": [
    "a = np.arange(3).reshape(3,1)\n",
    "b = np.arange(3)\n",
    "\n",
    "a.shape, b.shape, a, b"
   ]
  },
  {
   "cell_type": "code",
   "execution_count": 203,
   "id": "b1722824-78f5-4d27-872b-8dcd4caa6aa9",
   "metadata": {},
   "outputs": [
    {
     "data": {
      "text/plain": [
       "array([[0, 1, 2],\n",
       "       [1, 2, 3],\n",
       "       [2, 3, 4]])"
      ]
     },
     "execution_count": 203,
     "metadata": {},
     "output_type": "execute_result"
    }
   ],
   "source": [
    "a+b"
   ]
  },
  {
   "cell_type": "markdown",
   "id": "56dc7cac-2099-471a-aeb8-2f264ef55acc",
   "metadata": {},
   "source": [
    "#### 배열의 중앙 정렬 (브로드캐스팅 + mean)"
   ]
  },
  {
   "cell_type": "code",
   "execution_count": 281,
   "id": "c89133f2-e31d-4ce3-a623-fdd2e89b5935",
   "metadata": {},
   "outputs": [
    {
     "name": "stdout",
     "output_type": "stream",
     "text": [
      "배열 x:\n",
      "[[0.0308607  0.04392117 0.98865278]\n",
      " [0.66067589 0.74598937 0.28215987]\n",
      " [0.96632443 0.89435168 0.10954031]\n",
      " [0.35269384 0.41555137 0.41012213]\n",
      " [0.9213801  0.17289761 0.57837178]\n",
      " [0.98513413 0.70141723 0.31126168]\n",
      " [0.79503626 0.66789921 0.54268685]\n",
      " [0.26162781 0.44099427 0.07099592]\n",
      " [0.91944194 0.33239196 0.07510306]\n",
      " [0.6435669  0.00809756 0.71720042]]\n",
      " xmean : [0.6536742  0.44235114 0.40860948]\n",
      " np.sum(x,axis=0)/10 : [0.6536742  0.44235114 0.40860948]\n"
     ]
    }
   ],
   "source": [
    "x = np.random.random((10,3))\n",
    "xmean = x.mean(0)\n",
    "\n",
    "print(f\"배열 x:\\n{x}\\n xmean : {xmean}\\n np.sum(x,axis=0)/10 : {np.sum(x,axis=0)/10}\")"
   ]
  },
  {
   "cell_type": "code",
   "execution_count": 282,
   "id": "d4419df6-26f0-48fc-8b93-8f0c15000727",
   "metadata": {},
   "outputs": [
    {
     "data": {
      "text/plain": [
       "((10, 3), array([8.88178420e-17, 5.55111512e-17, 0.00000000e+00]))"
      ]
     },
     "execution_count": 282,
     "metadata": {},
     "output_type": "execute_result"
    }
   ],
   "source": [
    "x_centered = x - xmean\n",
    "x_centered.shape, x_centered.mean(0)"
   ]
  },
  {
   "cell_type": "code",
   "execution_count": 259,
   "id": "cb801458-4f5d-4793-8e0c-188d83f74c94",
   "metadata": {},
   "outputs": [
    {
     "data": {
      "image/png": "[encoded data removed]",
      "text/plain": [
       "<Figure size 640x480 with 2 Axes>"
      ]
     },
     "metadata": {},
     "output_type": "display_data"
    }
   ],
   "source": [
    "x = np.linspace(0, 5, 100)\n",
    "y = np.linspace(0, 5, 100)[:, np.newaxis]\n",
    "\n",
    "z = np.sin(x) ** 10 + np.cos(10 + y * x) * np.cos(x)\n",
    "\n",
    "import matplotlib.pyplot as plt\n",
    "\n",
    "plt.imshow(z, origin='lower', extent = [0, 5, 0, 5], cmap='viridis')\n",
    "plt.colorbar();"
   ]
  },
  {
   "cell_type": "code",
   "execution_count": 283,
   "id": "b328e787-4688-490c-974f-29a11f54a6e0",
   "metadata": {},
   "outputs": [
    {
     "data": {
      "text/plain": [
       "(array([245.,  14.,  13.,  17.,   8.,   6.,   5.,   6.,   4.,   3.,   7.,\n",
       "          6.,   3.,   3.,   3.,   4.,   4.,   2.,   4.,   0.,   0.,   1.,\n",
       "          1.,   1.,   0.,   0.,   0.,   2.,   1.,   1.,   0.,   0.,   0.,\n",
       "          0.,   0.,   0.,   0.,   0.,   0.,   1.]),\n",
       " array([  0.   ,  11.675,  23.35 ,  35.025,  46.7  ,  58.375,  70.05 ,\n",
       "         81.725,  93.4  , 105.075, 116.75 , 128.425, 140.1  , 151.775,\n",
       "        163.45 , 175.125, 186.8  , 198.475, 210.15 , 221.825, 233.5  ,\n",
       "        245.175, 256.85 , 268.525, 280.2  , 291.875, 303.55 , 315.225,\n",
       "        326.9  , 338.575, 350.25 , 361.925, 373.6  , 385.275, 396.95 ,\n",
       "        408.625, 420.3  , 431.975, 443.65 , 455.325, 467.   ]),\n",
       " <BarContainer object of 40 artists>)"
      ]
     },
     "execution_count": 283,
     "metadata": {},
     "output_type": "execute_result"
    },
    {
     "data": {
      "image/png": "[encoded data removed]",
      "text/plain": [
       "<Figure size 640x480 with 1 Axes>"
      ]
     },
     "metadata": {},
     "output_type": "display_data"
    }
   ],
   "source": [
    "with open('data/Seattle2014.csv') as f:\n",
    "    f.readline()\n",
    "    rainfall=[]\n",
    "    for line in f.readlines():\n",
    "        rainfall.append(int(line.rstrip().split(',')[3]))\n",
    "rainfall_np = np.asarray(rainfall)\n",
    "\n",
    "plt.hist(rainfall_np, 40)"
   ]
  },
  {
   "cell_type": "code",
   "execution_count": 287,
   "id": "1d42a00c-2501-430d-93dc-b5207866f695",
   "metadata": {},
   "outputs": [
    {
     "data": {
      "text/plain": [
       "127"
      ]
     },
     "execution_count": 287,
     "metadata": {},
     "output_type": "execute_result"
    }
   ],
   "source": [
    "np.sum(rainfall_np > 5)"
   ]
  },
  {
   "cell_type": "markdown",
   "id": "51b64eba-d992-4e05-bb63-dbc89ccf2890",
   "metadata": {},
   "source": [
    "### 팬시 인덱싱\n",
    "+ 한 번에 여러 배열의 요소에 접근\n",
    "+ 결과는 인덱스 배열의 형상을 반영함"
   ]
  },
  {
   "cell_type": "code",
   "execution_count": 339,
   "id": "ffbd13b6-c396-4469-ab86-daa9d9ed7961",
   "metadata": {},
   "outputs": [
    {
     "name": "stdout",
     "output_type": "stream",
     "text": [
      "3 4 6\n",
      "[3 4 6]\n"
     ]
    }
   ],
   "source": [
    "a = np.arange(1,11)\n",
    "print(a[2],a[3],a[5])\n",
    "\n",
    "fancy = [2,3,5]\n",
    "print(a[fancy])\n"
   ]
  },
  {
   "cell_type": "code",
   "execution_count": 356,
   "id": "fdda8f58-dc50-4204-9226-d719b18a7424",
   "metadata": {},
   "outputs": [
    {
     "name": "stdout",
     "output_type": "stream",
     "text": [
      "[[[ 1  2  3  4]\n",
      "  [ 5  6  7  8]]\n",
      "\n",
      " [[ 5  6  7  8]\n",
      "  [ 9 10 11 12]]]\n",
      "[2 7]\n"
     ]
    }
   ],
   "source": [
    "a = np.arange(1,13).reshape(3,4)\n",
    "idx = np.array([[0,1],[1,2]])\n",
    "\n",
    "print(a[idx])\n",
    "\n",
    "row = np.array([0,1])\n",
    "col = np.array([1,2])\n",
    "\n",
    "print(a[row, col])\n",
    "\n"
   ]
  },
  {
   "cell_type": "markdown",
   "id": "64d79eb2-8671-43d9-992e-2f6dde58ed51",
   "metadata": {},
   "source": [
    "#### 팬시 인덱싱을 이용한 임의의 점 20개 선택"
   ]
  },
  {
   "cell_type": "code",
   "execution_count": 325,
   "id": "e3ce1036-cef4-47df-9bbe-c8b027176f1b",
   "metadata": {},
   "outputs": [
    {
     "data": {
      "text/plain": [
       "<matplotlib.collections.PathCollection at 0x23220f6b580>"
      ]
     },
     "execution_count": 325,
     "metadata": {},
     "output_type": "execute_result"
    },
    {
     "data": {
      "image/png": "[encoded data removed]",
      "text/plain": [
       "<Figure size 640x480 with 1 Axes>"
      ]
     },
     "metadata": {},
     "output_type": "display_data"
    }
   ],
   "source": [
    "mean = [0,0]\n",
    "cov = [[1,2],[2,5]]\n",
    "rand = np.random.RandomState(42)\n",
    "X = rand.multivariate_normal(mean, cov, 100)\n",
    "X.shape\n",
    "import matplotlib.pyplot as plt\n",
    "\n",
    "plt.scatter(X[:, 0], X[:, 1])\n",
    "\n",
    "indices = np.random.choice(X.shape[0], 20, replace=False)\n",
    "selection = X[indices]\n",
    "selection.shape\n",
    "\n",
    "plt.scatter(X[:, 0], X[:, 1], alpha=0.3)\n",
    "plt.scatter(selection[:, 0], selection[:, 1], facecolor='blue', s=200, alpha=0.3)"
   ]
  },
  {
   "cell_type": "code",
   "execution_count": 335,
   "id": "a85a97d9-b642-40c7-8f91-50cd7f466c43",
   "metadata": {},
   "outputs": [
    {
     "name": "stdout",
     "output_type": "stream",
     "text": [
      "[[6 3 7 4 6 9]\n",
      " [2 6 7 4 3 7]\n",
      " [7 2 5 4 1 7]\n",
      " [5 1 4 0 9 5]]\n",
      "열 기준 정렬 : \n",
      "[[2 1 4 0 1 5]\n",
      " [5 2 5 4 3 7]\n",
      " [6 3 7 4 6 7]\n",
      " [7 6 7 4 9 9]]\n",
      "행 기준 정렬 : \n",
      "[[3 4 6 6 7 9]\n",
      " [2 3 4 6 7 7]\n",
      " [1 2 4 5 7 7]\n",
      " [0 1 4 5 5 9]]\n"
     ]
    }
   ],
   "source": [
    "rand =np.random.RandomState(42)\n",
    "X = rand.randint(0, 10, (4, 6))\n",
    "print(X)\n",
    "\n",
    "print(\"열 기준 정렬 : \",np.sort(X, axis=0), sep='\\n')\n",
    "print(\"행 기준 정렬 : \",np.sort(X, axis=1), sep='\\n')"
   ]
  },
  {
   "cell_type": "code",
   "execution_count": null,
   "id": "9a440c19-a446-4ce0-8ee1-8792c0bb4a2d",
   "metadata": {},
   "outputs": [],
   "source": [
    "\n",
    "\n"
   ]
  }
 ],
 "metadata": {
  "kernelspec": {
   "display_name": "Python 3 (ipykernel)",
   "language": "python",
   "name": "python3"
  },
  "language_info": {
   "codemirror_mode": {
    "name": "ipython",
    "version": 3
   },
   "file_extension": ".py",
   "mimetype": "text/x-python",
   "name": "python",
   "nbconvert_exporter": "python",
   "pygments_lexer": "ipython3",
   "version": "3.9.13"
  }
 },
 "nbformat": 4,
 "nbformat_minor": 5
}
