{
 "cells": [
  {
   "cell_type": "code",
   "execution_count": null,
   "id": "51ae9036-5394-42da-9979-952a73abc0cc",
   "metadata": {},
   "outputs": [],
   "source": []
  }
 ],
 "metadata": {
  "kernelspec": {
   "display_name": "",
   "name": ""
  },
  "language_info": {
   "name": ""
  }
 },
 "nbformat": 4,
 "nbformat_minor": 5
}
